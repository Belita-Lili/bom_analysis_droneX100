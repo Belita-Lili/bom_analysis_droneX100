{
  "cells": [
    {
      "cell_type": "markdown",
      "metadata": {},
      "source": [
        "# \ud83d\udcca An\u00e1lisis de Bill of Materials (BOM) \u2013 DroneX-100\n",
        "\n",
        "Este notebook realiza un an\u00e1lisis exploratorio de datos sobre la lista de materiales (BOM) del dron DroneX-100. Se exploran costos, jerarqu\u00edas de componentes y proveedores."
      ]
    },
    {
      "cell_type": "code",
      "execution_count": null,
      "metadata": {},
      "outputs": [],
      "source": [
        "# \ud83d\udce5 Cargar librer\u00edas\n",
        "import pandas as pd\n",
        "import matplotlib.pyplot as plt\n",
        "import networkx as nx\n",
        "\n",
        "# Cargar los datos del BOM\n",
        "df = pd.read_csv('bom_drone.csv')\n",
        "df.head()"
      ]
    },
    {
      "cell_type": "code",
      "execution_count": null,
      "metadata": {},
      "outputs": [],
      "source": [
        "# \ud83d\udcb0 C\u00e1lculo del costo total del DroneX-100\n",
        "df['subtotal'] = df['cantidad'] * df['costo_unitario_usd']\n",
        "costo_total = df[df['producto_padre'] == 'DroneX-100']['subtotal'].sum()\n",
        "print(f\"Costo total DroneX-100 (nivel 0): ${costo_total:.2f}\")"
      ]
    },
    {
      "cell_type": "code",
      "execution_count": null,
      "metadata": {},
      "outputs": [],
      "source": [
        "# \ud83d\udce6 Componentes m\u00e1s costosos\n",
        "componentes_costosos = df.sort_values(by='subtotal', ascending=False)\n",
        "componentes_costosos[['componente', 'subtotal']]"
      ]
    },
    {
      "cell_type": "code",
      "execution_count": null,
      "metadata": {},
      "outputs": [],
      "source": [
        "# \ud83e\uddf1 Visualizaci\u00f3n del \u00e1rbol de componentes\n",
        "G = nx.DiGraph()\n",
        "for _, row in df.iterrows():\n",
        "    G.add_edge(row['producto_padre'], row['componente'], weight=row['cantidad'])\n",
        "\n",
        "plt.figure(figsize=(10,6))\n",
        "pos = nx.spring_layout(G, seed=42)\n",
        "nx.draw(G, pos, with_labels=True, node_color='lightblue', node_size=2500, edge_color='gray')\n",
        "plt.title(\"Jerarqu\u00eda del BOM: DroneX-100\")\n",
        "plt.show()"
      ]
    },
    {
      "cell_type": "code",
      "execution_count": null,
      "metadata": {},
      "outputs": [],
      "source": [
        "# \ud83d\udcc8 An\u00e1lisis por proveedor\n",
        "por_proveedor = df.groupby('proveedor')['subtotal'].sum().sort_values(ascending=False)\n",
        "por_proveedor.plot(kind='bar', title='Costo total por proveedor', ylabel='USD', xlabel='Proveedor', figsize=(8,5), color='teal')\n",
        "plt.tight_layout()\n",
        "plt.show()"
      ]
    }
  ],
  "metadata": {
    "kernelspec": {
      "display_name": "Python 3",
      "language": "python",
      "name": "python3"
    },
    "language_info": {
      "name": "python",
      "version": "3.x"
    }
  },
  "nbformat": 4,
  "nbformat_minor": 2
}